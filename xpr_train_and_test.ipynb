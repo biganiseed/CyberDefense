{
 "cells": [
  {
   "cell_type": "markdown",
   "metadata": {},
   "source": [
    "# Experiments - Train and test classification models\n",
    "```\n",
    "Input files: src/data_split/train_64_RIPE_n.csv, test_64_RIPE_n.csv  \n",
    "```\n",
    "Choose one of the following sub-sections(algorithm) to run at one time.\n"
   ]
  },
  {
   "cell_type": "markdown",
   "metadata": {},
   "source": [
    "### 1. Set variables\n",
    "Set cut_pct, site to be consistent with those in xpr_BPG_offlinc_data.ipynb.\n"
   ]
  },
  {
   "cell_type": "code",
   "execution_count": null,
   "metadata": {},
   "outputs": [],
   "source": [
    "site = 'RIPE'\n",
    "cut_pct = '64'"
   ]
  },
  {
   "cell_type": "markdown",
   "metadata": {},
   "source": [
    "### 2. Integrated run \n",
    "Run some RNN algorithms as a batch. The results stored in src/STAT/results_64_RIPE.csv can be used as baseline for benchmarking new algorithms. Choose one to run from the following sub section.\n",
    "```\n",
    "Output files: src/STAT/results_64_RIPE.csv\n",
    "```"
   ]
  },
  {
   "cell_type": "markdown",
   "metadata": {},
   "source": [
    "#### 2.1 LSTM and GRU\n",
    "Approximately 4 minutes to run on 2022 Macbook Air M2."
   ]
  },
  {
   "cell_type": "code",
   "execution_count": null,
   "metadata": {},
   "outputs": [],
   "source": [
    "from src.subprocess_cmd import subprocess_cmd\n",
    "\n",
    "print(\"--------------------RNNs Experiment-Begin--------------------------\")\n",
    "subprocess_cmd(\"cd src/; \\\n",
    "                cp ./data_split/train_%s_%s_n.csv ./data_split/test_%s_%s_n.csv ./RNN_Running_Code/RNN_Run/dataset/ ; \\\n",
    "                cd RNN_Running_Code/RNN_Run/dataset/; \\\n",
    "                mv train_%s_%s_n.csv train.csv; mv test_%s_%s_n.csv test.csv; \\\n",
    "                cd ..; cd ..; \\\n",
    "                chmod +x integrate_run.sh; sh ./integrate_run.sh ; \\\n",
    "                cd RNN_Run/; sh ./collect.sh; \\\n",
    "                cp -r res_acc res_run ../data_representation/ ; \\\n",
    "                cd .. ; cd data_representation/ ; \\\n",
    "                python TableGenerator.py; \" \\\n",
    "                % (cut_pct, site, cut_pct, site, cut_pct, site, cut_pct, site))\n",
    "\n",
    "print(\"--------------------RNNs Experiment-end----------------------------\")\n",
    "subprocess_cmd(\"cd src/; \\\n",
    "                mv ./RNN_Running_Code/data_representation/data_representation_table.csv ./STAT/ ; \\\n",
    "                mv ./STAT/data_representation_table.csv ./STAT/results_%s_%s.csv\" \\\n",
    "                % (cut_pct, site))\n",
    "\n",
    "# Remove generated folders\n",
    "# subprocess_cmd(\"cd src/; \\\n",
    "#                 cd RNN_Running_Code/RNN_Run/; \\\n",
    "#                 rm -rf ./experiment/ ./res_acc/ ./res_run/ ./tmp/\")\n"
   ]
  },
  {
   "cell_type": "markdown",
   "metadata": {},
   "source": [
    "#### 2.2 Bi-LSTM and Bi-GRU\n",
    "Approximately 7 minutes to run on 2022 Macbook Air M2.  \n",
    "Known issue: There is no results in the output file caused by unknown problems."
   ]
  },
  {
   "cell_type": "code",
   "execution_count": null,
   "metadata": {},
   "outputs": [],
   "source": [
    "from src.subprocess_cmd import subprocess_cmd\n",
    "\n",
    "print(\"--------------------RNNs Experiment-Begin--------------------------\")\n",
    "subprocess_cmd(\"cd src/; \\\n",
    "                cp ./data_split/train_%s_%s_n.csv ./data_split/test_%s_%s_n.csv ./BiRNN_Running_Code/BiRNN_Run/dataset/ ; \\\n",
    "                cd BiRNN_Running_Code/BiRNN_Run/dataset/; \\\n",
    "                mv train_%s_%s_n.csv train.csv; mv test_%s_%s_n.csv test.csv; \\\n",
    "                cd ..; cd ..; \\\n",
    "                chmod +x integrate_run.sh; sh ./integrate_run.sh ; \\\n",
    "                cd BiRNN_Run/; sh ./collect.sh; \\\n",
    "                cp -r res_acc res_run ../data_representation/ ; \\\n",
    "                cd .. ; cd data_representation/ ; \\\n",
    "                python TableGenerator.py; \" \\\n",
    "                % (cut_pct, site, cut_pct, site, cut_pct, site, cut_pct, site))\n",
    "\n",
    "print(\"--------------------RNNs Experiment-end----------------------------\")\n",
    "subprocess_cmd(\"cd src/; \\\n",
    "                mv ./BiRNN_Running_Code/data_representation/data_representation_table.csv ./STAT/ ; \\\n",
    "                mv ./STAT/data_representation_table.csv ./STAT/results_%s_%s.csv\" \\\n",
    "                % (cut_pct, site))\n",
    "\n",
    "# Remove generated folders\n",
    "subprocess_cmd(\"cd src/; \\\n",
    "                cd BiRNN_Running_Code/BiRNN_Run/; \\\n",
    "                rm -rf ./experiment/ ./res_acc/ ./res_run/ ./tmp/\")\n",
    "\n"
   ]
  },
  {
   "cell_type": "markdown",
   "metadata": {},
   "source": [
    "### 3. Run single algorithm\n",
    "Choose one existing algorithm from project Cyberdenfense to run."
   ]
  },
  {
   "cell_type": "markdown",
   "metadata": {},
   "source": [
    "#### 3.1. GRU3 (3 hidden layers)"
   ]
  },
  {
   "cell_type": "markdown",
   "metadata": {},
   "source": []
  }
 ],
 "metadata": {
  "kernelspec": {
   "display_name": "Python 3",
   "language": "python",
   "name": "python3"
  },
  "language_info": {
   "codemirror_mode": {
    "name": "ipython",
    "version": 3
   },
   "file_extension": ".py",
   "mimetype": "text/x-python",
   "name": "python",
   "nbconvert_exporter": "python",
   "pygments_lexer": "ipython3",
   "version": "3.10.12"
  }
 },
 "nbformat": 4,
 "nbformat_minor": 2
}
