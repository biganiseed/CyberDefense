{
 "cells": [
  {
   "cell_type": "markdown",
   "metadata": {},
   "source": [
    "# Experiments - BGP real time dataset preparation  \n",
    "Generate dataset used for detecting anomalies with real time BGP messages and the help of existing functions from project Cyberdefence. The dataset is only used for classification(prediction) with existing models(e.g. VFBLS), not for trainning models."
   ]
  },
  {
   "cell_type": "markdown",
   "metadata": {},
   "source": [
    "### 1. Get latest message file name in source website."
   ]
  },
  {
   "cell_type": "code",
   "execution_count": null,
   "metadata": {},
   "outputs": [],
   "source": [
    "from src.time_tracker import time_tracker_single\n",
    "from src.dataDownload import updateMessageName\n",
    "\n",
    "site='RIPE'\n",
    "year, month, day, hour, minute = time_tracker_single(site)\n",
    "print(\"Current time:\", year, month, day, hour, minute)\n",
    "update_message_file, data_date = updateMessageName(year, month, day, hour, minute)\n",
    "print(\"Will process an update message file:\", update_message_file)\n"
   ]
  },
  {
   "cell_type": "markdown",
   "metadata": {},
   "source": [
    "### 2. Download the message file\n",
    "```\n",
    "Output files: src/data_ripe/DUMP  \n",
    "```\n",
    "Original BGP MRT file is downloaded to folder src/data_ripe, then converted to ASCII format.  \n",
    "The output file includes BGP messages in plain text.  \n",
    "This is a message example:  \n",
    "```\n",
    "TIME: 2024-8-24 18:05:00\n",
    "TYPE: BGP4MP/BGP4MP_MESSAGE_AS4 AFI_IP\n",
    "FROM: 192.65.185.3\n",
    "TO: 192.65.185.40 \n",
    "BGP PACKET TYPE: UPDATE\n",
    "ORIGIN: IGP\n",
    "AS_PATH: 513 21320 9002 57363 57363 57363\n",
    "NEXT_HOP: 192.65.185.3\n",
    "COMMUNITIES: 20965:3 20965:4 21320:64622 21320:64698\n",
    "ANNOUNCED: 151.236.111.0/24\n",
    "```"
   ]
  },
  {
   "cell_type": "code",
   "execution_count": null,
   "metadata": {},
   "outputs": [],
   "source": [
    "from src.dataDownload import data_downloader_single\n",
    "\n",
    "data_downloader_single(update_message_file, data_date, site)\n"
   ]
  },
  {
   "cell_type": "markdown",
   "metadata": {},
   "source": [
    "### 3. Extract features from BGP messages\n",
    "Call a C# executable to extract 37 features + 4 timestamps from the dump files.  What the extraction does is basically summarize all kind of numbers of messages by minute. For example, feature No.1 Number of annoucements means how many annoucement message there is in one minute. Feature No.5 means the average length of all the AS-path strings contained in the messages in one minute. \n",
    "```\n",
    "Input files: src/data_ripe/DUMP  \n",
    "Output files: src/data_test/DUMP_out.txt  \n",
    "```\n",
    "The following is the field definition for DUMP_out.txt:  \n",
    "```\n",
    "Columns 1-4: time (column 1: hour+minute; column 2: hour; column 3: minute; column 4: second)\n",
    "Columns 5-41: features\n",
    "\n",
    "List of features extracted from BGP update messages:\n",
    "1 Number of announcements\n",
    "2 Number of withdrawals\n",
    "3 Number of announced NLRI prefixes\n",
    "4 Number of withdrawn NLRI prefixes\n",
    "5 Average AS-path length\n",
    "6 Maximum AS-path length\n",
    "7 Average unique AS-path length\n",
    "8 Number of duplicate announcements\n",
    "9 Number of duplicate withdrawals\n",
    "10 Number of implicit withdrawals\n",
    "11 Average edit distance\n",
    "12 Maximum edit distance\n",
    "13 Inter-arrival time\n",
    "14–24 Maximum edit distance = n, n = 7, . . . , 17\n",
    "25–33 Maximum AS-path length = n, n = 7, . . . , 15\n",
    "34 Number of Interior Gateway Protocol (IGP) packets\n",
    "35 Number of Exterior Gateway Protocol (EGP) packets\n",
    "36 Number of incomplete packets\n",
    "37 Packet size (B)\n",
    "```"
   ]
  },
  {
   "cell_type": "code",
   "execution_count": null,
   "metadata": {},
   "outputs": [],
   "source": [
    "from src.featureExtraction import feature_extractor_single\n",
    "\n",
    "file_name = feature_extractor_single(site)\n",
    "print(\"Feature extraction done for:\", file_name)\n"
   ]
  },
  {
   "cell_type": "markdown",
   "metadata": {},
   "source": [
    "It's done! Use src/data_test/DUMP_out.txt for classificatioin."
   ]
  }
 ],
 "metadata": {
  "kernelspec": {
   "display_name": "Python 3",
   "language": "python",
   "name": "python3"
  },
  "language_info": {
   "codemirror_mode": {
    "name": "ipython",
    "version": 3
   },
   "file_extension": ".py",
   "mimetype": "text/x-python",
   "name": "python",
   "nbconvert_exporter": "python",
   "pygments_lexer": "ipython3",
   "version": "3.10.12"
  }
 },
 "nbformat": 4,
 "nbformat_minor": 2
}
